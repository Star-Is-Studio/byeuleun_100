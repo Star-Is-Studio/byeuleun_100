{
 "cells": [
  {
   "cell_type": "code",
   "execution_count": 5,
   "id": "b6069d8b",
   "metadata": {},
   "outputs": [
    {
     "name": "stdout",
     "output_type": "stream",
     "text": [
      "200\n",
      "[{'currency': 'P', 'balance': '533', 'locked': '0', 'avg_buy_price': '0', 'avg_buy_price_modified': False, 'unit_currency': 'KRW'}, {'currency': 'KRW', 'balance': '3070211.159583', 'locked': '0', 'avg_buy_price': '0', 'avg_buy_price_modified': False, 'unit_currency': 'KRW'}, {'currency': 'BCH', 'balance': '0.00001645', 'locked': '0', 'avg_buy_price': '2140717', 'avg_buy_price_modified': False, 'unit_currency': 'KRW'}, {'currency': 'BTG', 'balance': '0.0000955', 'locked': '0', 'avg_buy_price': '282700', 'avg_buy_price_modified': False, 'unit_currency': 'KRW'}, {'currency': 'BSV', 'balance': '0.00001645', 'locked': '0', 'avg_buy_price': '0', 'avg_buy_price_modified': False, 'unit_currency': 'KRW'}, {'currency': 'BCD', 'balance': '0.000955', 'locked': '0', 'avg_buy_price': '0', 'avg_buy_price_modified': False, 'unit_currency': 'KRW'}, {'currency': 'XEC', 'balance': '16.45', 'locked': '0', 'avg_buy_price': '0.1207', 'avg_buy_price_modified': False, 'unit_currency': 'KRW'}, {'currency': 'SGB', 'balance': '0.0000077', 'locked': '0', 'avg_buy_price': '0', 'avg_buy_price_modified': False, 'unit_currency': 'KRW'}, {'currency': 'MBX', 'balance': '1.5797', 'locked': '0', 'avg_buy_price': '308', 'avg_buy_price_modified': False, 'unit_currency': 'KRW'}, {'currency': 'G', 'balance': '14.5555', 'locked': '0', 'avg_buy_price': '22.12', 'avg_buy_price_modified': False, 'unit_currency': 'KRW'}, {'currency': 'SONIC', 'balance': '1.9863', 'locked': '0', 'avg_buy_price': '495', 'avg_buy_price_modified': False, 'unit_currency': 'KRW'}, {'currency': 'KERNEL', 'balance': '27.22497168', 'locked': '0', 'avg_buy_price': '227', 'avg_buy_price_modified': False, 'unit_currency': 'KRW'}, {'currency': 'ES', 'balance': '19.0155956', 'locked': '0', 'avg_buy_price': '325', 'avg_buy_price_modified': False, 'unit_currency': 'KRW'}, {'currency': 'FORT', 'balance': '60.58890757', 'locked': '0', 'avg_buy_price': '102', 'avg_buy_price_modified': False, 'unit_currency': 'KRW'}]\n"
     ]
    },
    {
     "data": {
      "text/plain": [
       "'P'"
      ]
     },
     "execution_count": 5,
     "metadata": {},
     "output_type": "execute_result"
    }
   ],
   "source": [
    "import myBithumb\n",
    "\n",
    "\n",
    "a = myBithumb.GetBalances()\n",
    "a[0]['currency']"
   ]
  }
 ],
 "metadata": {
  "kernelspec": {
   "display_name": "Python 3",
   "language": "python",
   "name": "python3"
  },
  "language_info": {
   "codemirror_mode": {
    "name": "ipython",
    "version": 3
   },
   "file_extension": ".py",
   "mimetype": "text/x-python",
   "name": "python",
   "nbconvert_exporter": "python",
   "pygments_lexer": "ipython3",
   "version": "3.11.0"
  }
 },
 "nbformat": 4,
 "nbformat_minor": 5
}
